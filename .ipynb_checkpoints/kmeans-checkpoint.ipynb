{
 "cells": [
  {
   "cell_type": "code",
   "execution_count": 98,
   "id": "70fab401-db4f-4f37-9474-c5e9a5d0a9e8",
   "metadata": {},
   "outputs": [],
   "source": [
    "import numpy as np\n",
    "import pandas as pd\n",
    "import seaborn as sns\n",
    "import matplotlib.pyplot as plt\n",
    "from keras.preprocessing.text import Tokenizer\n",
    "from sklearn.cluster import KMeans\n",
    "import nltk \n",
    "import csv\n"
   ]
  },
  {
   "cell_type": "code",
   "execution_count": 99,
   "id": "e17e46cb-3c1e-4365-addd-5f7aadd73fbb",
   "metadata": {},
   "outputs": [],
   "source": [
    "data = pd.read_csv(\"/Users/timothycolledge/Desktop/Compsci/Project 3/simpleAnalysis/Musical_instruments_reviews.csv\", index_col=False)"
   ]
  },
  {
   "cell_type": "code",
   "execution_count": 100,
   "id": "4ca324a1",
   "metadata": {},
   "outputs": [],
   "source": [
    "tokenizer= Tokenizer()\n",
    "tokenizer.fit_on_texts(data.reviewText[:300])"
   ]
  },
  {
   "cell_type": "code",
   "execution_count": 101,
   "id": "5990e66d",
   "metadata": {},
   "outputs": [],
   "source": [
    "display = tokenizer.texts_to_matrix(data.reviewText[:300], mode='freq')"
   ]
  },
  {
   "cell_type": "code",
   "execution_count": 102,
   "id": "369af82b",
   "metadata": {},
   "outputs": [],
   "source": [
    "nldata= []\n",
    "with open(\"/Users/timothycolledge/Desktop/Compsci/Project 3/simpleAnalysis/Musical_instruments_reviews.csv\", mode='r') as csv_file:\n",
    "    csv_reader = csv.DictReader(csv_file)\n",
    "    for row in csv_reader:\n",
    "        nldata.append(nltk.word_tokenize(row[\"reviewText\"]))\n"
   ]
  },
  {
   "cell_type": "code",
   "execution_count": null,
   "id": "b15090b7",
   "metadata": {},
   "outputs": [],
   "source": [
    "nlCountData = []\n",
    "nlKmeansData = {}\n",
    "for x in range (len(nldata)):  \n",
    "    nlcountData = {}\n",
    "    for nam in nldata[x]:  \n",
    "        if nam not in nlcountData:\n",
    "            nlcountData.update({nam: 0})\n",
    "            nlKmeansData.update({x: 0})\n",
    "    nlCountData.append(nlcountData)"
   ]
  },
  {
   "cell_type": "code",
   "execution_count": null,
   "id": "2fb878cd",
   "metadata": {},
   "outputs": [],
   "source": [
    "for x in range (len(nldata)):  \n",
    "    for nam in nldata[x]: \n",
    "        nlCountData[x][nam] += 1\n",
    "\n",
    "for x in range (len(nldata)):  \n",
    "    for nam in nldata[x]: \n",
    "        nlKmeansData[x] = nlCountData[x][nam]\n",
    "\n"
   ]
  },
  {
   "cell_type": "code",
   "execution_count": 105,
   "id": "130d2930",
   "metadata": {},
   "outputs": [
    {
     "data": {
      "image/png": "[encoded data removed]",
      "text/plain": [
       "<Figure size 432x288 with 1 Axes>"
      ]
     },
     "metadata": {
      "needs_background": "light"
     },
     "output_type": "display_data"
    }
   ],
   "source": [
    "nlfinalData = sorted(nlKmeansData.items())\n",
    "x,y = zip(*nlfinalData)\n",
    "plt.plot(x,y)\n",
    "plt.show()"
   ]
  },
  {
   "cell_type": "code",
   "execution_count": 6,
   "id": "7448a4a1",
   "metadata": {},
   "outputs": [
    {
     "data": {
      "image/png": "[encoded data removed]",
      "text/plain": [
       "<Figure size 432x288 with 1 Axes>"
      ]
     },
     "metadata": {
      "needs_background": "light"
     },
     "output_type": "display_data"
    }
   ],
   "source": [
    "plt.plot(display[0])\n",
    "plt.show()"
   ]
  },
  {
   "cell_type": "code",
   "execution_count": null,
   "id": "f9678454",
   "metadata": {},
   "outputs": [],
   "source": [
    "print(data.head(10))\n",
    "print(data.reviewText[:10])\n",
    "print(f'ListOfWords: {list(tokenizer.word_index.keys())}')\n",
    "print(tokenizer.word_index)"
   ]
  },
  {
   "cell_type": "code",
   "execution_count": 110,
   "id": "d0346313-eb28-404e-ba75-1a9e02797524",
   "metadata": {},
   "outputs": [],
   "source": [
    "countData = pd.DataFrame(nlfinalData)\n",
    "clusters = KMeans(n_clusters=5)\n",
    "clusters.fit(countData)\n",
    "clusteredData = pd.DataFrame(clusters.cluster_centers_)\n",
    "cluster_map = pd.DataFrame()\n",
    "cluster_map['data_index'] = countData.index.values\n",
    "cluster_map['cluster'] = clusters.labels_"
   ]
  },
  {
   "cell_type": "code",
   "execution_count": null,
   "id": "2e2757be",
   "metadata": {},
   "outputs": [],
   "source": [
    "countData = pd.DataFrame(display)\n",
    "clusters = KMeans(n_clusters=5)\n",
    "clusters.fit(countData)\n",
    "clusteredData = pd.DataFrame(clusters.cluster_centers_)\n",
    "cluster_map = pd.DataFrame()\n",
    "cluster_map['data_index'] = countData.index.values\n",
    "cluster_map['cluster'] = clusters.labels_"
   ]
  },
  {
   "cell_type": "code",
   "execution_count": 111,
   "id": "95373eb6",
   "metadata": {},
   "outputs": [
    {
     "name": "stdout",
     "output_type": "stream",
     "text": [
      "3606556103.3748116\n",
      "   data_index  cluster\n",
      "0           0        2\n",
      "1           1        2\n",
      "2           2        2\n",
      "3           3        2\n",
      "4           4        2\n"
     ]
    },
    {
     "data": {
      "image/png": "[encoded data removed]",
      "text/plain": [
       "<Figure size 432x288 with 1 Axes>"
      ]
     },
     "metadata": {
      "needs_background": "light"
     },
     "output_type": "display_data"
    }
   ],
   "source": [
    "print(clusters.inertia_)\n",
    "print(cluster_map.head())\n",
    "plt.plot(cluster_map.data_index,cluster_map.cluster)\n",
    "plt.show()"
   ]
  }
 ],
 "metadata": {
  "interpreter": {
   "hash": "aee8b7b246df8f9039afb4144a1f6fd8d2ca17a180786b69acc140d282b71a49"
  },
  "kernelspec": {
   "display_name": "Python 3 (ipykernel)",
   "language": "python",
   "name": "python3"
  },
  "language_info": {
   "codemirror_mode": {
    "name": "ipython",
    "version": 3
   },
   "file_extension": ".py",
   "mimetype": "text/x-python",
   "name": "python",
   "nbconvert_exporter": "python",
   "pygments_lexer": "ipython3",
   "version": "3.9.4"
  }
 },
 "nbformat": 4,
 "nbformat_minor": 5
}
